{
 "cells": [
  {
   "cell_type": "code",
   "execution_count": 38,
   "id": "99dc9234-2dde-4c68-91cc-0390f89fc97f",
   "metadata": {},
   "outputs": [],
   "source": [
    "import os\n",
    "import numpy as np\n",
    "import pandas as pd\n",
    "import matplotlib.pyplot as plt\n",
    "import random\n",
    "from PIL import Image\n",
    "from sklearn.decomposition import PCA"
   ]
  },
  {
   "cell_type": "code",
   "execution_count": 39,
   "id": "d821b6bf-994f-4997-96eb-f4d50f081c2c",
   "metadata": {},
   "outputs": [],
   "source": [
    "image_folder = \"img_align_celeba/img_align_celeba\"\n",
    "img_matrix = []\n",
    "\n",
    "count = 0\n",
    "#max_count = 202599\n",
    "for image in os.listdir(image_folder):\n",
    "    if image != \"me.jpg\" and count < 1000:\n",
    "        image_path = os.path.join(image_folder, image)\n",
    "        greyScale_img = Image.open(image_path).convert(\"L\")\n",
    "        reSized_img = greyScale_img.resize((64,64))\n",
    "        img_vector = np.array(reSized_img).flatten()\n",
    "        img_matrix.append(img_vector)\n",
    "        count+=1\n",
    "\n",
    "img_matrix = np.array(img_matrix)"
   ]
  },
  {
   "cell_type": "code",
   "execution_count": 40,
   "id": "efd9f10a-e120-41eb-9b66-92d8e88f778b",
   "metadata": {},
   "outputs": [],
   "source": [
    "n_comp = [10, 50, 100, 250, 500]\n",
    "pca_matrix = []\n",
    "inverse_pca_matrix = []\n",
    "\n",
    "centered_matrix = img_matrix - np.mean(img_matrix, axis = 0)\n",
    "cov_matrix = np.cov(centered_matrix.T)"
   ]
  },
  {
   "cell_type": "code",
   "execution_count": null,
   "id": "e7c93b29-c7af-44a1-82a1-a4301f413536",
   "metadata": {},
   "outputs": [],
   "source": [
    "fig, axes = plt.subplots(nrows=1, ncols=len(n_comp)+1, figsize=(16,16))\n",
    "rand_ind = random.choice(range(len(img_matrix)))\n",
    "\n",
    "for ind, n in enumerate(n_comp):\n",
    "    pca = PCA(n_components=n)\n",
    "    pca_data = pca.fit_transform(centered_matrix)\n",
    "    pca_matrix.append(pca_data)\n",
    "    inverse_pca_data = pca.inverse_transform(pca_data)\n",
    "    inverse_pca_matrix.append(inverse_pca_data)\n",
    "    \n",
    "    image = inverse_pca_data[rand_ind].reshape(64, 64)\n",
    "    axes[ind].imshow(image, cmap=\"gray\")\n",
    "    axes[ind].set_title(f'n_comp={n}')\n",
    "\n",
    "original_img = img_matrix[rand_ind].reshape(64, 64)\n",
    "axes[len(n_comp)].imshow(original_img, cmap=\"gray\")\n",
    "axes[len(n_comp)].set_title(\"original image\")\n",
    "\n",
    "plt.tight_layout()\n",
    "plt.show()"
   ]
  },
  {
   "cell_type": "code",
   "execution_count": null,
   "id": "48762e77-1c70-4ada-b51e-fff32011ce60",
   "metadata": {},
   "outputs": [],
   "source": [
    "pca = PCA(n_components=500)\n",
    "pca.fit(centered_matrix)\n",
    "eigenfaces = pca.components_\n",
    "mean_face = pca.mean_\n",
    "\n",
    "weights = []\n",
    "my_face_img = Image.open(\"me.jpg\").convert(\"L\").resize((64,64))\n",
    "my_face = np.array(my_face_img).flatten()\n",
    "\n",
    "for i in range(img_matrix.shape[0]):\n",
    "    weight = []\n",
    "    for j in range(max(n_comp)):\n",
    "        w = eigenfaces[j] @ (img_matrix[i] - pca.mean_)\n",
    "        weight.append(w)\n",
    "    weights.append(weight)\n",
    "\n",
    "my_face.reshape(1,-1)\n",
    "face_weight = eigenfaces @ (my_face - pca.mean_).T\n",
    "euclidean_distance = np.linalg.norm(weights - face_weight, axis=0)\n",
    "closest_face = np.argmin(euclidean_distance)\n",
    "\n",
    "fig, axes = plt.subplots(nrows=1, ncols=2, figsize=(8,8))\n",
    "axes[0].imshow(my_face_img, cmap=\"gray\")\n",
    "axes[0].set_title(\"Original Image\")\n",
    "axes[1].imshow(img_matrix[closest_face].reshape(64,64), cmap=\"gray\")\n",
    "axes[1].set_title(\"Closest Person's Image\")\n",
    "\n",
    "plt.tight_layout()\n",
    "plt.show()"
   ]
  },
  {
   "cell_type": "code",
   "execution_count": null,
   "id": "a3487ab9-9f3c-4d21-b7f1-bd800eaeeda1",
   "metadata": {},
   "outputs": [],
   "source": [
    "newface_matrix = []\n",
    "weights_std = np.array(weights).std()\n",
    "fig, axes = plt.subplots(nrows=1, ncols=5, figsize=(64,64))\n",
    "for i in range(5):\n",
    "    random_weights = np.random.randn(500) * weights_std\n",
    "    newface = random_weights @ eigenfaces + pca.mean_\n",
    "    axes[i].imshow(newface.reshape(64,64), cmap=\"gray\")\n",
    "    \n",
    "plt.tight_layout()\n",
    "plt.show()"
   ]
  },
  {
   "cell_type": "code",
   "execution_count": null,
   "id": "6cae346c-724f-4a83-98e6-39a14a1e0c32",
   "metadata": {},
   "outputs": [],
   "source": [
    "from sklearn.metrics import mean_squared_error\n",
    "\n",
    "mse_values = []\n",
    "for n, inverse_pca_data in zip(n_comp, inverse_pca_matrix):\n",
    "    mse = mean_squared_error(img_matrix, inverse_pca_data)\n",
    "    mse_values.append(mse)\n",
    "    print(f\"MSE for n_comp={n}: {mse}\")"
   ]
  }
 ],
 "metadata": {
  "kernelspec": {
   "display_name": "Python 3 (ipykernel)",
   "language": "python",
   "name": "python3"
  },
  "language_info": {
   "codemirror_mode": {
    "name": "ipython",
    "version": 3
   },
   "file_extension": ".py",
   "mimetype": "text/x-python",
   "name": "python",
   "nbconvert_exporter": "python",
   "pygments_lexer": "ipython3",
   "version": "3.11.5"
  }
 },
 "nbformat": 4,
 "nbformat_minor": 5
}
