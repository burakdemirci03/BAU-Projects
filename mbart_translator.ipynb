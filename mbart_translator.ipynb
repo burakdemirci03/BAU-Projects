{
  "nbformat": 4,
  "nbformat_minor": 0,
  "metadata": {
    "colab": {
      "provenance": [],
      "authorship_tag": "ABX9TyNbNMAHwjmx00meLitENEZz",
      "include_colab_link": true
    },
    "kernelspec": {
      "name": "python3",
      "display_name": "Python 3"
    },
    "language_info": {
      "name": "python"
    }
  },
  "cells": [
    {
      "cell_type": "markdown",
      "metadata": {
        "id": "view-in-github",
        "colab_type": "text"
      },
      "source": [
        "<a href=\"https://colab.research.google.com/github/burakdemirci03/BAU-Projects/blob/main/mbart_translator.ipynb\" target=\"_parent\"><img src=\"https://colab.research.google.com/assets/colab-badge.svg\" alt=\"Open In Colab\"/></a>"
      ]
    },
    {
      "cell_type": "code",
      "execution_count": null,
      "metadata": {
        "colab": {
          "base_uri": "https://localhost:8080/"
        },
        "collapsed": true,
        "id": "yXr-qC3t_fth",
        "outputId": "74d40418-0ef6-4b24-a5fd-36613035d1d3"
      },
      "outputs": [
        {
          "output_type": "stream",
          "name": "stdout",
          "text": [
            "Requirement already satisfied: transformers in /usr/local/lib/python3.10/dist-packages (4.46.3)\n",
            "Requirement already satisfied: filelock in /usr/local/lib/python3.10/dist-packages (from transformers) (3.16.1)\n",
            "Requirement already satisfied: huggingface-hub<1.0,>=0.23.2 in /usr/local/lib/python3.10/dist-packages (from transformers) (0.26.5)\n",
            "Requirement already satisfied: numpy>=1.17 in /usr/local/lib/python3.10/dist-packages (from transformers) (1.26.4)\n",
            "Requirement already satisfied: packaging>=20.0 in /usr/local/lib/python3.10/dist-packages (from transformers) (24.2)\n",
            "Requirement already satisfied: pyyaml>=5.1 in /usr/local/lib/python3.10/dist-packages (from transformers) (6.0.2)\n",
            "Requirement already satisfied: regex!=2019.12.17 in /usr/local/lib/python3.10/dist-packages (from transformers) (2024.9.11)\n",
            "Requirement already satisfied: requests in /usr/local/lib/python3.10/dist-packages (from transformers) (2.32.3)\n",
            "Requirement already satisfied: tokenizers<0.21,>=0.20 in /usr/local/lib/python3.10/dist-packages (from transformers) (0.20.3)\n",
            "Requirement already satisfied: safetensors>=0.4.1 in /usr/local/lib/python3.10/dist-packages (from transformers) (0.4.5)\n",
            "Requirement already satisfied: tqdm>=4.27 in /usr/local/lib/python3.10/dist-packages (from transformers) (4.66.6)\n",
            "Requirement already satisfied: fsspec>=2023.5.0 in /usr/local/lib/python3.10/dist-packages (from huggingface-hub<1.0,>=0.23.2->transformers) (2024.10.0)\n",
            "Requirement already satisfied: typing-extensions>=3.7.4.3 in /usr/local/lib/python3.10/dist-packages (from huggingface-hub<1.0,>=0.23.2->transformers) (4.12.2)\n",
            "Requirement already satisfied: charset-normalizer<4,>=2 in /usr/local/lib/python3.10/dist-packages (from requests->transformers) (3.4.0)\n",
            "Requirement already satisfied: idna<4,>=2.5 in /usr/local/lib/python3.10/dist-packages (from requests->transformers) (3.10)\n",
            "Requirement already satisfied: urllib3<3,>=1.21.1 in /usr/local/lib/python3.10/dist-packages (from requests->transformers) (2.2.3)\n",
            "Requirement already satisfied: certifi>=2017.4.17 in /usr/local/lib/python3.10/dist-packages (from requests->transformers) (2024.8.30)\n"
          ]
        }
      ],
      "source": [
        "!pip install transformers"
      ]
    },
    {
      "cell_type": "code",
      "source": [
        "from transformers import MBartForConditionalGeneration, MBart50TokenizerFast\n",
        "from huggingface_hub import login\n",
        "import os\n",
        "from google.colab import userdata\n",
        "\n",
        "os.environ[\"HF_TOKEN\"] = userdata.get(\"HF_TOKEN\")\n",
        "login(os.environ[\"HF_TOKEN\"])\n",
        "\n",
        "model = MBartForConditionalGeneration.from_pretrained(\"facebook/mbart-large-50-many-to-many-mmt\")\n",
        "tokenizer = MBart50TokenizerFast.from_pretrained(\"facebook/mbart-large-50-many-to-many-mmt\")"
      ],
      "metadata": {
        "id": "XRIB6Lng_kgl",
        "colab": {
          "base_uri": "https://localhost:8080/"
        },
        "collapsed": true,
        "outputId": "fbd2dcd4-b15f-446a-c1a7-b36c131a0e90"
      },
      "execution_count": null,
      "outputs": [
        {
          "output_type": "stream",
          "name": "stderr",
          "text": [
            "Note: Environment variable`HF_TOKEN` is set and is the current active token independently from the token you've just configured.\n",
            "WARNING:huggingface_hub._login:Note: Environment variable`HF_TOKEN` is set and is the current active token independently from the token you've just configured.\n"
          ]
        }
      ]
    },
    {
      "cell_type": "code",
      "source": [
        "lang_code = {\n",
        "    \"English\": \"en_XX\", \"German\": \"de_DE\", \"Spanish\": \"es_XX\",\n",
        "    \"French\": \"fr_XX\", \"Russian\": \"ru_RU\", \"Italian\": \"it_IT\",\n",
        "    \"Turkish\": \"tr_TR\", \"Japanese\": \"ja_XX\", \"Korean\": \"ko_KR\",\n",
        "    \"Chinese\": \"zh_CN\", \"Arabic\": \"ar_AR\", \"Polish\":\"pl_PL\",\n",
        "    \"Czech\":\"cs_CZ\", \"Hebrew\":\"he_IL\", \"Hindi\":\"hi_IN\",\n",
        "    \"Persian\":\"fa_IR\", \"Portuguese\":\"pt_XX\", \"Dutch\":\"nl_XX\"\n",
        "}\n",
        "\n",
        "'''\n",
        "print(\"All Available Languages:\")\n",
        "for lang in sorted(lang_code.keys()):\n",
        "    print(f\"- {lang}\")\n",
        "'''"
      ],
      "metadata": {
        "colab": {
          "base_uri": "https://localhost:8080/",
          "height": 35
        },
        "collapsed": true,
        "id": "fvRCUndV_sTG",
        "outputId": "41acfc40-cbb0-4085-deac-e6f1d0826401"
      },
      "execution_count": null,
      "outputs": [
        {
          "output_type": "execute_result",
          "data": {
            "text/plain": [
              "'\\nprint(\"All Available Languages:\")\\nfor lang in sorted(lang_code.keys()):\\n    print(f\"- {lang}\")\\n'"
            ],
            "application/vnd.google.colaboratory.intrinsic+json": {
              "type": "string"
            }
          },
          "metadata": {},
          "execution_count": 3
        }
      ]
    },
    {
      "cell_type": "markdown",
      "source": [
        "All Available Languages:\n",
        "- Arabic\n",
        "- Chinese\n",
        "- Czech\n",
        "- Dutch\n",
        "- English\n",
        "- French\n",
        "- German\n",
        "- Hebrew\n",
        "- Hindi\n",
        "- Italian\n",
        "- Japanese\n",
        "- Korean\n",
        "- Persian\n",
        "- Polish\n",
        "- Portuguese\n",
        "- Russian\n",
        "- Spanish\n",
        "- Turkish"
      ],
      "metadata": {
        "id": "xF-0JQlMojiO"
      }
    },
    {
      "cell_type": "code",
      "source": [
        "print(\"TO EXIT, JUST SEND EMPTY MESSAGE IN ANY STEP\")\n",
        "\n",
        "while(True):\n",
        "\n",
        "  translate_from = input(\"\\nTranslate from: \").capitalize().rstrip('.').strip(\"\")\n",
        "  if translate_from == \"\":\n",
        "    print(\"Program Terminated.\")\n",
        "    break\n",
        "  translate_from_code = lang_code[translate_from]\n",
        "\n",
        "  translate_to = input(\"Translate to: \").capitalize().strip(\"\")\n",
        "  if translate_to == \"\":\n",
        "    print(\"Program Terminated.\")\n",
        "    break\n",
        "  translate_to_code = lang_code[translate_to]\n",
        "\n",
        "  translation = input(f\"\\n{translate_from} -> {translate_to}: \")\n",
        "  if translation == \"\":\n",
        "    print(\"Program Terminated.\")\n",
        "    break\n",
        "\n",
        "  tokenizer.src_lang = f\"{translate_from_code}\"\n",
        "  encoded = tokenizer(translation, return_tensors=\"pt\")\n",
        "  generated_tokens = model.generate(\n",
        "      **encoded,\n",
        "      forced_bos_token_id=tokenizer.lang_code_to_id[f\"{translate_to_code}\"]\n",
        "  )\n",
        "\n",
        "  translation = tokenizer.batch_decode(generated_tokens, skip_special_tokens=True)[0].rstrip('.')\n",
        "\n",
        "  print(f\"{translate_to} -> {translate_from}: {translation}\")\n",
        "  print(\"\\n\")"
      ],
      "metadata": {
        "colab": {
          "base_uri": "https://localhost:8080/"
        },
        "id": "Lm1pCjK2kuAn",
        "outputId": "d876a364-4088-4134-c06c-3e18e7cdf007"
      },
      "execution_count": null,
      "outputs": [
        {
          "output_type": "stream",
          "name": "stdout",
          "text": [
            "TO EXIT, JUST SEND EMPTY MESSAGE IN ANY STEP\n",
            "\n",
            "Translate from: English\n",
            "Translate to: Italian\n",
            "\n",
            "English -> Italian: One ring to rule them all\n",
            "Italian -> English: Un cerchio per governarli tutti\n",
            "\n",
            "\n",
            "\n",
            "Translate from: English\n",
            "Translate to: Japanese\n",
            "\n",
            "English -> Japanese: Third Impact\n",
            "Japanese -> English: サードインパクト\n",
            "\n",
            "\n",
            "\n",
            "Translate from: Turkish\n",
            "Translate to: \n",
            "Program Terminated.\n"
          ]
        }
      ]
    }
  ]
}